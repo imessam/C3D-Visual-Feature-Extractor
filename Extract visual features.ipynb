{
 "cells": [
  {
   "cell_type": "code",
   "execution_count": 1,
   "id": "05ef8d58",
   "metadata": {},
   "outputs": [
    {
     "ename": "ModuleNotFoundError",
     "evalue": "No module named 'Visual'",
     "output_type": "error",
     "traceback": [
      "\u001b[1;31m---------------------------------------------------------------------------\u001b[0m",
      "\u001b[1;31mModuleNotFoundError\u001b[0m                       Traceback (most recent call last)",
      "\u001b[1;32m<ipython-input-1-bb408f9f8a1d>\u001b[0m in \u001b[0;36m<module>\u001b[1;34m\u001b[0m\n\u001b[0;32m      1\u001b[0m \u001b[1;32mimport\u001b[0m \u001b[0mpandas\u001b[0m \u001b[1;32mas\u001b[0m \u001b[0mpd\u001b[0m\u001b[1;33m\u001b[0m\u001b[1;33m\u001b[0m\u001b[0m\n\u001b[1;32m----> 2\u001b[1;33m \u001b[1;32mimport\u001b[0m \u001b[0mVisualExtractor\u001b[0m \u001b[1;32mas\u001b[0m \u001b[0mVE\u001b[0m\u001b[1;33m\u001b[0m\u001b[1;33m\u001b[0m\u001b[0m\n\u001b[0m",
      "\u001b[1;32mF:\\Project\\notebooks\\Feature Extractor\\Visual\\VisualExtractor.py\u001b[0m in \u001b[0;36m<module>\u001b[1;34m\u001b[0m\n\u001b[0;32m      1\u001b[0m \u001b[1;32mimport\u001b[0m \u001b[0mnumpy\u001b[0m \u001b[1;32mas\u001b[0m \u001b[0mnp\u001b[0m\u001b[1;33m\u001b[0m\u001b[1;33m\u001b[0m\u001b[0m\n\u001b[1;32m----> 2\u001b[1;33m \u001b[1;32mimport\u001b[0m \u001b[0mVisual\u001b[0m\u001b[1;33m.\u001b[0m\u001b[0mc3d\u001b[0m \u001b[1;32mas\u001b[0m \u001b[0mc3d\u001b[0m\u001b[1;33m\u001b[0m\u001b[1;33m\u001b[0m\u001b[0m\n\u001b[0m\u001b[0;32m      3\u001b[0m \u001b[1;32mimport\u001b[0m \u001b[0mtensorflow\u001b[0m \u001b[1;32mas\u001b[0m \u001b[0mtf\u001b[0m\u001b[1;33m\u001b[0m\u001b[1;33m\u001b[0m\u001b[0m\n\u001b[0;32m      4\u001b[0m \u001b[1;32mimport\u001b[0m \u001b[0mmatplotlib\u001b[0m\u001b[1;33m.\u001b[0m\u001b[0mpyplot\u001b[0m \u001b[1;32mas\u001b[0m \u001b[0mplt\u001b[0m\u001b[1;33m\u001b[0m\u001b[1;33m\u001b[0m\u001b[0m\n\u001b[0;32m      5\u001b[0m \u001b[1;32mimport\u001b[0m \u001b[0mcv2\u001b[0m\u001b[1;33m\u001b[0m\u001b[1;33m\u001b[0m\u001b[0m\n",
      "\u001b[1;31mModuleNotFoundError\u001b[0m: No module named 'Visual'"
     ]
    }
   ],
   "source": [
    "import pandas as pd\n",
    "import VisualExtractor as VE"
   ]
  },
  {
   "cell_type": "code",
   "execution_count": null,
   "id": "a35d24f9",
   "metadata": {},
   "outputs": [],
   "source": [
    "img_rows,img_cols,img_depth=112,112,16\n",
    "weights_path=\"weights/c3d.h5\"\n",
    "videos_path=\"MOSI raw videos\""
   ]
  },
  {
   "cell_type": "code",
   "execution_count": null,
   "id": "55efd827",
   "metadata": {},
   "outputs": [],
   "source": [
    "c3dModel=c3d.C3D((img_depth,img_rows,img_cols,3),weights_path)\n",
    "model=c3dModel.generateModel()"
   ]
  },
  {
   "cell_type": "code",
   "execution_count": null,
   "id": "9fd781de",
   "metadata": {},
   "outputs": [],
   "source": [
    "visualExtractor=VE.VisualExtractor()\n",
    "model,features=visualExtractor.extractFeatures(videos_path,weights_path,img_rows,img_cols,img_depth)"
   ]
  },
  {
   "cell_type": "code",
   "execution_count": null,
   "id": "74321d2f",
   "metadata": {},
   "outputs": [],
   "source": [
    "model.summary()"
   ]
  },
  {
   "cell_type": "code",
   "execution_count": null,
   "id": "9f3035de",
   "metadata": {},
   "outputs": [],
   "source": [
    "features.shape"
   ]
  },
  {
   "cell_type": "code",
   "execution_count": null,
   "id": "82f295f5",
   "metadata": {},
   "outputs": [],
   "source": [
    "features[-1,:]"
   ]
  },
  {
   "cell_type": "code",
   "execution_count": null,
   "id": "a6d16e10",
   "metadata": {},
   "outputs": [],
   "source": [
    "pd.DataFrame(features).to_csv(\"Visual Features.csv\",header=None,index=False)"
   ]
  },
  {
   "cell_type": "code",
   "execution_count": null,
   "id": "a39b1030",
   "metadata": {},
   "outputs": [],
   "source": []
  }
 ],
 "metadata": {
  "kernelspec": {
   "display_name": "Python 3",
   "language": "python",
   "name": "python3"
  },
  "language_info": {
   "codemirror_mode": {
    "name": "ipython",
    "version": 3
   },
   "file_extension": ".py",
   "mimetype": "text/x-python",
   "name": "python",
   "nbconvert_exporter": "python",
   "pygments_lexer": "ipython3",
   "version": "3.9.0"
  }
 },
 "nbformat": 4,
 "nbformat_minor": 5
}
